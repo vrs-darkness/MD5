{
 "cells": [
  {
   "cell_type": "code",
   "execution_count": 8,
   "metadata": {},
   "outputs": [],
   "source": [
    "import tensorflow as tf\n",
    "import keras\n",
    "import pandas as pd\n",
    "import numpy as np\n",
    "import matplotlib.pyplot as plt\n",
    "from sklearn.model_selection import train_test_split"
   ]
  },
  {
   "cell_type": "code",
   "execution_count": 9,
   "metadata": {},
   "outputs": [
    {
     "data": {
      "text/html": [
       "<div>\n",
       "<style scoped>\n",
       "    .dataframe tbody tr th:only-of-type {\n",
       "        vertical-align: middle;\n",
       "    }\n",
       "\n",
       "    .dataframe tbody tr th {\n",
       "        vertical-align: top;\n",
       "    }\n",
       "\n",
       "    .dataframe thead th {\n",
       "        text-align: right;\n",
       "    }\n",
       "</style>\n",
       "<table border=\"1\" class=\"dataframe\">\n",
       "  <thead>\n",
       "    <tr style=\"text-align: right;\">\n",
       "      <th></th>\n",
       "      <th>Password</th>\n",
       "      <th>Hash</th>\n",
       "    </tr>\n",
       "  </thead>\n",
       "  <tbody>\n",
       "    <tr>\n",
       "      <th>0</th>\n",
       "      <td>12345</td>\n",
       "      <td>38e8a1262efddd261bbedd26ccbedd26</td>\n",
       "    </tr>\n",
       "    <tr>\n",
       "      <th>1</th>\n",
       "      <td>passwor</td>\n",
       "      <td>d1aecb26ee140726d0d507261d50726</td>\n",
       "    </tr>\n",
       "    <tr>\n",
       "      <th>2</th>\n",
       "      <td>1234567</td>\n",
       "      <td>b1e3212679f85d2626b95d26d7b95d26</td>\n",
       "    </tr>\n",
       "    <tr>\n",
       "      <th>3</th>\n",
       "      <td>qwert</td>\n",
       "      <td>6f2e67261863a3265f24a3261024a326</td>\n",
       "    </tr>\n",
       "    <tr>\n",
       "      <th>4</th>\n",
       "      <td>12345678</td>\n",
       "      <td>25b46126bac99d26678a9d26188a9d26</td>\n",
       "    </tr>\n",
       "  </tbody>\n",
       "</table>\n",
       "</div>"
      ],
      "text/plain": [
       "   Password                              Hash\n",
       "0     12345  38e8a1262efddd261bbedd26ccbedd26\n",
       "1   passwor   d1aecb26ee140726d0d507261d50726\n",
       "2   1234567  b1e3212679f85d2626b95d26d7b95d26\n",
       "3     qwert  6f2e67261863a3265f24a3261024a326\n",
       "4  12345678  25b46126bac99d26678a9d26188a9d26"
      ]
     },
     "execution_count": 9,
     "metadata": {},
     "output_type": "execute_result"
    }
   ],
   "source": [
    "Data = pd.read_csv('Password_register.csv')\n",
    "Data.head()"
   ]
  },
  {
   "cell_type": "code",
   "execution_count": 10,
   "metadata": {},
   "outputs": [],
   "source": [
    "#Converting that hexadecimal Hash into Binary Format\n",
    "Hash = list(Data['Hash'])\n",
    "Pass = list(Data['Password'])\n",
    "Hash_bin = [bin(int(i,16))[2:] for i in Hash]\n",
    "temp = [\"0\"*(128-len(i)) + i for i in Hash_bin]\n",
    "Hash_bin = temp "
   ]
  },
  {
   "cell_type": "code",
   "execution_count": 11,
   "metadata": {},
   "outputs": [],
   "source": [
    "from keras import Sequential\n",
    "from keras.layers import Dense,Input"
   ]
  },
  {
   "cell_type": "code",
   "execution_count": 12,
   "metadata": {},
   "outputs": [],
   "source": [
    "model = Sequential()"
   ]
  },
  {
   "cell_type": "code",
   "execution_count": 13,
   "metadata": {},
   "outputs": [],
   "source": [
    "# Neural Network Diemension\n",
    "input = 128\n",
    "hid1 = 400\n",
    "hid2 = 500\n",
    "hid3 = 600\n",
    "Output = len(Pass)"
   ]
  },
  {
   "cell_type": "code",
   "execution_count": 14,
   "metadata": {},
   "outputs": [
    {
     "name": "stderr",
     "output_type": "stream",
     "text": [
      "2023-06-01 19:01:17.247781: W tensorflow/tsl/framework/cpu_allocator_impl.cc:83] Allocation of 146860800 exceeds 10% of free system memory.\n",
      "2023-06-01 19:01:17.293682: W tensorflow/tsl/framework/cpu_allocator_impl.cc:83] Allocation of 146860800 exceeds 10% of free system memory.\n",
      "2023-06-01 19:01:17.317232: W tensorflow/tsl/framework/cpu_allocator_impl.cc:83] Allocation of 146860800 exceeds 10% of free system memory.\n"
     ]
    }
   ],
   "source": [
    "# 4 Layer Neural Network\n",
    "model.add(Input(input))\n",
    "model.add(Dense(hid1,'relu'))\n",
    "model.add(Dense(hid2,'tanh'))\n",
    "model.add(Dense(hid3,'relu'))\n",
    "model.add(Dense(Output,'sigmoid'))\n",
    "model.compile('rmsprop',loss=tf.keras.losses.CategoricalCrossentropy(),metrics='accuracy')"
   ]
  },
  {
   "cell_type": "code",
   "execution_count": 15,
   "metadata": {},
   "outputs": [],
   "source": [
    "# Making Input and Output as per requirement\n",
    "Input1 = np.array([[int(j) for j in i] for i in Hash_bin])\n",
    "Output1= pd.get_dummies(Pass).values"
   ]
  },
  {
   "cell_type": "code",
   "execution_count": null,
   "metadata": {},
   "outputs": [],
   "source": [
    "x_train,x_test,y_train,y_test = train_test_split(Input1,Output1,test_size=0.8)"
   ]
  },
  {
   "cell_type": "code",
   "execution_count": null,
   "metadata": {},
   "outputs": [],
   "source": [
    "model.fit(x_train,y_train)"
   ]
  },
  {
   "cell_type": "code",
   "execution_count": null,
   "metadata": {},
   "outputs": [],
   "source": [
    "model.predict(x_test,y_test)"
   ]
  },
  {
   "attachments": {},
   "cell_type": "markdown",
   "metadata": {},
   "source": [
    "## Failed Computational Power unavailable"
   ]
  }
 ],
 "metadata": {
  "kernelspec": {
   "display_name": "Python 3",
   "language": "python",
   "name": "python3"
  },
  "language_info": {
   "codemirror_mode": {
    "name": "ipython",
    "version": 3
   },
   "file_extension": ".py",
   "mimetype": "text/x-python",
   "name": "python",
   "nbconvert_exporter": "python",
   "pygments_lexer": "ipython3",
   "version": "3.11.2"
  },
  "orig_nbformat": 4
 },
 "nbformat": 4,
 "nbformat_minor": 2
}
